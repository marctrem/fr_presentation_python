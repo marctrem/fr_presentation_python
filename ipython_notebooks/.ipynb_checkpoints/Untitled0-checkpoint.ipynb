{
 "metadata": {
  "name": "",
  "signature": "sha256:d3aa351de6e9c2fc47cdbe2055c23888f77f866f0c582abb54c73f17295152de"
 },
 "nbformat": 3,
 "nbformat_minor": 0,
 "worksheets": [
  {
   "cells": [
    {
     "cell_type": "markdown",
     "metadata": {},
     "source": [
      "# Java \u00e0 Python"
     ]
    },
    {
     "cell_type": "markdown",
     "metadata": {},
     "source": [
      "####Arguments(args) et Keyword Arguments(kwargs)"
     ]
    },
    {
     "cell_type": "code",
     "collapsed": false,
     "input": [
      "class Planete:\n",
      "    def __init__(self, nom='Sans nom', diametreKM=1.1343, gaseuse=False):\n",
      "        self.nom = nom\n",
      "        self.diametreKM = diametreKM\n",
      "        self.gaseuse = gaseuse\n",
      "    \n",
      "    def __str__(self):\n",
      "        return 'La plan\u00e8te %s est %s. (%s km)' \\\n",
      "            % (self.nom,\n",
      "               'gaseuse' if self.gaseuse else 'solide',\n",
      "               self.diametreKM)\n",
      "        \n",
      "    def __cmp__(self, other):\n",
      "        self.nom == other.nom\n",
      "        self.diametreKM = other.diametreKM\n",
      "        self.gaseuses = fa"
     ],
     "language": "python",
     "metadata": {},
     "outputs": [],
     "prompt_number": 26
    },
    {
     "cell_type": "code",
     "collapsed": false,
     "input": [
      "class Dog:\n",
      "    def __init__(self):\n",
      "        self.__food = 2\n",
      "        self.name = \"hello\"\n",
      "    def __sweg():\n",
      "        print 'OK'\n",
      "\n",
      "d = Dog()\n",
      "d.__dict__\n"
     ],
     "language": "python",
     "metadata": {},
     "outputs": [
      {
       "metadata": {},
       "output_type": "pyout",
       "prompt_number": 47,
       "text": [
        "{'name': 'hello', '_Dog__food': 2}"
       ]
      }
     ],
     "prompt_number": 47
    }
   ],
   "metadata": {}
  }
 ]
}