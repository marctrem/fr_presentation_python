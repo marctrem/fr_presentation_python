{
 "metadata": {
  "name": "",
  "signature": "sha256:ef73df7140b26d89745831cec0fbbc7eacf3a0f279876c8741ac967dc6f59631"
 },
 "nbformat": 3,
 "nbformat_minor": 0,
 "worksheets": [
  {
   "cells": [
    {
     "cell_type": "heading",
     "level": 2,
     "metadata": {
      "slideshow": {
       "slide_type": "-"
      }
     },
     "source": [
      "Mini Traducteur 1"
     ]
    },
    {
     "cell_type": "code",
     "collapsed": false,
     "input": [
      "e2d = { 'hero': 'held',\n",
      "        'is': 'ist',\n",
      "        'my': 'mein' }\n",
      "\n",
      "english = 'Shrek is my hero'\n",
      "deutsch = ''\n",
      "\n",
      "for en_word in english.split():\n",
      "    deutsch += e2d.get(en_word, en_word) + ' '\n",
      "\n",
      "print(deutsch)"
     ],
     "language": "python",
     "metadata": {
      "slideshow": {
       "slide_type": "-"
      }
     },
     "outputs": [
      {
       "output_type": "stream",
       "stream": "stdout",
       "text": [
        "Shrek ist mein held \n"
       ]
      }
     ],
     "prompt_number": 9
    },
    {
     "cell_type": "code",
     "collapsed": false,
     "input": [
      "deutsch = ' '.join(\n",
      "    [e2d.get(en_word, en_word)\n",
      "    for en_word in english.split(' ')])\n",
      "\n",
      "print(deutsch)"
     ],
     "language": "python",
     "metadata": {},
     "outputs": [
      {
       "output_type": "stream",
       "stream": "stdout",
       "text": [
        "Shrek ist mein held\n"
       ]
      }
     ],
     "prompt_number": 10
    }
   ],
   "metadata": {}
  }
 ]
}