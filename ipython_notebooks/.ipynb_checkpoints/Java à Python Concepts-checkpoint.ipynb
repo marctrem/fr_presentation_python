{
 "metadata": {
  "name": "",
  "signature": "sha256:58c4f63fd3229358ed0d5e4dee88e777d3869717b4bd6d1e5fbe2e352ef229fa"
 },
 "nbformat": 3,
 "nbformat_minor": 0,
 "worksheets": [
  {
   "cells": [
    {
     "cell_type": "heading",
     "level": 2,
     "metadata": {},
     "source": [
      "Classes"
     ]
    },
    {
     "cell_type": "code",
     "collapsed": false,
     "input": [
      "class Personnage:\n",
      "    \n",
      "    nombre = 3 # Variable statique\n",
      "\n",
      "    def __init__(self, nom='Sans nom'):\n",
      "        self.nom = nom # Variable de classe\n",
      "        self.__age = 3 # 'presque cach\u00e9'\n",
      "\n",
      "    @staticmethod\n",
      "    def vivre():\n",
      "        return 'Il y a de la vie ici'\n",
      "\n",
      "    #def crier(self, mot):\n",
      "    # ou\n",
      "    def crier(self, mot: str) -> str: # mypy\n",
      "        print( ('je suis %s et je cri: %s' % self.nom, mot).upper() )\n",
      "\n",
      "    def __chuchoter(self, mot):\n",
      "        print(mot.lower())\n",
      "        \n",
      "p = Personnage()\n",
      "\n",
      "p.__dict__\n",
      "        \n"
     ],
     "language": "python",
     "metadata": {},
     "outputs": [
      {
       "metadata": {},
       "output_type": "pyout",
       "prompt_number": 42,
       "text": [
        "{'_Personnage__age': 3, 'nom': 'Sans nom'}"
       ]
      }
     ],
     "prompt_number": 42
    },
    {
     "cell_type": "heading",
     "level": 2,
     "metadata": {},
     "source": [
      "H\u00e9ritage Multiple"
     ]
    },
    {
     "cell_type": "code",
     "collapsed": false,
     "input": [
      "class Base(object): \n",
      "    def __init__(self, c):\n",
      "        print('Base appel\u00e9 par %s' % c)\n",
      "        super().__init__()\n",
      "\n",
      "class ParentA(Base):\n",
      "    def __init__(self, c):\n",
      "        print('ParentA appel\u00e9 par %s' % c)\n",
      "        super().__init__('ParentA')\n",
      "\n",
      "class ParentB(Base):\n",
      "    def __init__(self, c):\n",
      "        print('ParentB appel\u00e9 par %s' % c)\n",
      "        super().__init__('ParentB')\n",
      "\n",
      "class Enfant(ParentA, ParentB):\n",
      "    def __init__(self, c):\n",
      "        print('Enfant appel\u00e9 par %s' % c)\n",
      "        super().__init__('Enfant')\n",
      "\n",
      "Enfant('Construct')\n",
      "print(Enfant.mro()) # Method Resolution Order"
     ],
     "language": "python",
     "metadata": {},
     "outputs": [
      {
       "output_type": "stream",
       "stream": "stdout",
       "text": [
        "Enfant appel\u00e9 par Construct\n",
        "ParentA appel\u00e9 par Enfant\n",
        "ParentB appel\u00e9 par ParentA\n",
        "Base appel\u00e9 par ParentB\n",
        "[<class '__main__.Enfant'>, <class '__main__.ParentA'>, <class '__main__.ParentB'>, <class '__main__.Base'>, <class 'object'>]\n"
       ]
      }
     ],
     "prompt_number": 2
    },
    {
     "cell_type": "heading",
     "level": 2,
     "metadata": {},
     "source": [
      "M\u00e9todes int\u00e9ressantes"
     ]
    },
    {
     "cell_type": "code",
     "collapsed": false,
     "input": [
      "class Maison():\n",
      "    def __init__(self, fenetre=3, porte=1):\n",
      "        self.fenetre = fenetre\n",
      "        self.porte = porte\n",
      "        \n",
      "    def __str__(self):\n",
      "        return 'Maison ayant %s porte(s) et %s fen\u00eatre(s)' % (self.porte, self.fenetre)\n",
      "    \n",
      "    def __repr__(self):\n",
      "        return 'Maison(porte=%s, fenetre=%s)' % (self.porte, self.fenetre)\n",
      "    \n",
      "    def __call__(self):\n",
      "        print ('Je suis une maison qui a \u00e9t\u00e9 appel\u00e9e.')\n",
      "        \n",
      "    def __getattr__(self, attr):\n",
      "        print (\"Quelqu'un est venu chercher %r.\\nCe n'est pas un de mes membres\" % attr)\n",
      "        return attr * 3\n",
      "        \n",
      "\n",
      "m = Maison(porte=2, fenetre=4)\n",
      "\n",
      "print ('En string: %s \\nEn repr\u00e9sentation:  %r' % (m, m) )\n",
      "\n",
      "\n",
      "\n"
     ],
     "language": "python",
     "metadata": {},
     "outputs": [
      {
       "output_type": "stream",
       "stream": "stdout",
       "text": [
        "En string: Maison ayant 2 porte(s) et 4 fen\u00eatre(s) \n",
        "En repr\u00e9sentation:  Maison(porte=2, fenetre=4)\n"
       ]
      }
     ],
     "prompt_number": 12
    },
    {
     "cell_type": "code",
     "collapsed": false,
     "input": [
      "(annonceur_debut_fin(lambda: print(user)))()"
     ],
     "language": "python",
     "metadata": {},
     "outputs": [
      {
       "output_type": "stream",
       "stream": "stdout",
       "text": [
        "Paul\n"
       ]
      }
     ],
     "prompt_number": 14
    },
    {
     "cell_type": "code",
     "collapsed": false,
     "input": [
      "li = [2,4,5,3,4,5,4,3]\n",
      "\n",
      "[2**numero for numero in li if numero != 2]"
     ],
     "language": "python",
     "metadata": {},
     "outputs": [
      {
       "ename": "SyntaxError",
       "evalue": "invalid syntax (<ipython-input-9-f4b84a1c0373>, line 3)",
       "output_type": "pyerr",
       "traceback": [
        "\u001b[1;36m  File \u001b[1;32m\"<ipython-input-9-f4b84a1c0373>\"\u001b[1;36m, line \u001b[1;32m3\u001b[0m\n\u001b[1;33m    [2**numero for numero in li 4 if numero != 2]\u001b[0m\n\u001b[1;37m                                ^\u001b[0m\n\u001b[1;31mSyntaxError\u001b[0m\u001b[1;31m:\u001b[0m invalid syntax\n"
       ]
      }
     ],
     "prompt_number": 9
    },
    {
     "cell_type": "code",
     "collapsed": false,
     "input": [
      "class Dog:\n",
      "    def __init__(self):\n",
      "        self.paws = 4\n",
      "        self._intelligence = \"superior\"\n",
      "        self.__barking_intensity = 5\n",
      "        \n",
      "    def __call__(self):\n",
      "        print(\"WOOF\" * self.__barking_intensity)\n",
      "        \n",
      "    def __getattr__(self, attr):\n",
      "        print(\"Fetching %s\" % attr)\n",
      "        return lambda x: x**2\n",
      "        \n",
      "doge = Dog()\n",
      "doge()\n",
      "doge.__getattr__('paws')(3)"
     ],
     "language": "python",
     "metadata": {},
     "outputs": [
      {
       "output_type": "stream",
       "stream": "stdout",
       "text": [
        "WOOFWOOFWOOFWOOFWOOF\n",
        "Fetching paws\n"
       ]
      },
      {
       "metadata": {},
       "output_type": "pyout",
       "prompt_number": 28,
       "text": [
        "9"
       ]
      }
     ],
     "prompt_number": 28
    },
    {
     "cell_type": "heading",
     "level": 2,
     "metadata": {},
     "source": [
      "Macro"
     ]
    },
    {
     "cell_type": "code",
     "collapsed": false,
     "input": [
      "def annonceur_debut_fin(ma_fn):\n",
      "    \n",
      "    def nouvelle_fn(*args, **kwargs):\n",
      "        print('On va entrer dans \"%s\"' % ma_fn.__name__)\n",
      "        retval = ma_fn(*args, **kwargs)\n",
      "        print('On vient de sortir de \"%s\"' % ma_fn.__name__)\n",
      "        return retval\n",
      "    return nouvelle_fn\n",
      "\n",
      "@annonceur_debut_fin\n",
      "def imprime_nom(nom):\n",
      "    print('Bonjour %s.' % nom)\n",
      "    \n",
      "\n",
      "imprime_nom('Swamp Lord')\n",
      "\n",
      "\n"
     ],
     "language": "python",
     "metadata": {},
     "outputs": [
      {
       "output_type": "stream",
       "stream": "stdout",
       "text": [
        "On va entrer dans \"imprime_nom\"\n",
        "Bonjour Swamp Lord.\n",
        "On vient de sortir de \"imprime_nom\"\n"
       ]
      }
     ],
     "prompt_number": 21
    },
    {
     "cell_type": "heading",
     "level": 2,
     "metadata": {},
     "source": [
      "Injection dans la global avec d\u00e9corateur"
     ]
    },
    {
     "cell_type": "code",
     "collapsed": false,
     "input": [
      "# REALLY FICTIVE CODE\n",
      "\n",
      "from codecs import encode\n",
      "\n",
      "\n",
      "def fetch_user_from_session_id(session_id):\n",
      "    return encode(session_id, 'rot13')\n",
      "\n",
      "def provide_user(mon_endpoint):\n",
      "    \n",
      "    def nouvelle_fn(*args, **kwargs):\n",
      "        session_id = kwargs['req_headers']['session_id']\n",
      "        mon_endpoint.__globals__['user'] = fetch_user_from_session_id(session_id)\n",
      "        ans =  mon_endpoint(*args, **kwargs)\n",
      "        print(mon_endpoint.__closure__)\n",
      "        return ans\n",
      "    return nouvelle_fn\n",
      "\n",
      "\n",
      "@provide_user\n",
      "def page_secrete(req_headers=None):\n",
      "    \n",
      "    return 'Bienvenue %s. Tu utilises %s' % (user, req_headers['user_agent'])\n",
      "\n",
      "# Une request arrive \u00e0 notre handler fictif...\n",
      "\n",
      "page_secrete(req_headers={'session_id': 'Fuerx',\n",
      "                          'user_agent': 'Shrek Explorer 20'})\n",
      "\n"
     ],
     "language": "python",
     "metadata": {},
     "outputs": [
      {
       "output_type": "stream",
       "stream": "stdout",
       "text": [
        "None\n"
       ]
      },
      {
       "metadata": {},
       "output_type": "pyout",
       "prompt_number": 31,
       "text": [
        "'Bienvenue Shrek. Tu utilises Shrek Explorer 20'"
       ]
      }
     ],
     "prompt_number": 31
    },
    {
     "cell_type": "heading",
     "level": 2,
     "metadata": {},
     "source": [
      "Passer des arguments \u00e0 un D\u00e9corateur"
     ]
    },
    {
     "cell_type": "code",
     "collapsed": false,
     "input": [
      "def deco_parametrable(mot_a_afficher_avant):\n",
      "    \n",
      "    def le_vrai_decorateur(ma_fn):\n",
      "    \n",
      "        def nouvelle_fn(*args, **kwargs):\n",
      "            print(mot_a_afficher_avant)\n",
      "            return ma_fn(*args, **kwargs)\n",
      "        \n",
      "        return nouvelle_fn\n",
      "    \n",
      "    return le_vrai_decorateur\n",
      "\n",
      "print_decore = deco_parametrable('THIS IS MY SWAMP')(print)\n",
      "\n",
      "print_decore('hehe')"
     ],
     "language": "python",
     "metadata": {},
     "outputs": [
      {
       "output_type": "stream",
       "stream": "stdout",
       "text": [
        "THIS IS MY SWAMP\n",
        "hehe\n"
       ]
      }
     ],
     "prompt_number": 25
    },
    {
     "cell_type": "code",
     "collapsed": false,
     "input": [
      "@deco_parametrable(\"N'oublie pas de cacher ta casquette en pr\u00e9sence de Phillipe\")\n",
      "def square_me(x):\n",
      "    return x ** 2\n",
      "\n",
      "square_me(4)"
     ],
     "language": "python",
     "metadata": {},
     "outputs": [
      {
       "output_type": "stream",
       "stream": "stdout",
       "text": [
        "N'oublie pas de cacher ta casquette en pr\u00e9sence de Phillipe\n"
       ]
      },
      {
       "metadata": {},
       "output_type": "pyout",
       "prompt_number": 40,
       "text": [
        "16"
       ]
      }
     ],
     "prompt_number": 40
    },
    {
     "cell_type": "heading",
     "level": 4,
     "metadata": {},
     "source": [
      "V\u00e9rifier les arguments pass\u00e9s \u00e0 une fonction avec d\u00e9corateurs"
     ]
    },
    {
     "cell_type": "code",
     "collapsed": false,
     "input": [
      "def deco_filtreur(fn_filtre):\n",
      "    \n",
      "    def le_vrai_decorateur(ma_fn):\n",
      "    \n",
      "        def nouvelle_fn(*args, **kwargs):\n",
      "            if not fn_filtre(args[0]):\n",
      "                raise Exception('Wow wow wow! Filtre non respect\u00e9')\n",
      "            return ma_fn(*args, **kwargs)\n",
      "        \n",
      "        return nouvelle_fn\n",
      "    \n",
      "    return le_vrai_decorateur\n",
      "\n",
      "@deco_filtreur(lambda x: x < 10)\n",
      "def square_me(x):\n",
      "    return x ** 2\n",
      "\n",
      "square_me(5)"
     ],
     "language": "python",
     "metadata": {},
     "outputs": [
      {
       "metadata": {},
       "output_type": "pyout",
       "prompt_number": 72,
       "text": [
        "25"
       ]
      }
     ],
     "prompt_number": 72
    },
    {
     "cell_type": "code",
     "collapsed": false,
     "input": [
      "square_me(10)"
     ],
     "language": "python",
     "metadata": {},
     "outputs": [
      {
       "ename": "NameError",
       "evalue": "name 'square_me' is not defined",
       "output_type": "pyerr",
       "traceback": [
        "\u001b[1;31m---------------------------------------------------------------------------\u001b[0m\n\u001b[1;31mNameError\u001b[0m                                 Traceback (most recent call last)",
        "\u001b[1;32m<ipython-input-9-4b57ac979cb1>\u001b[0m in \u001b[0;36m<module>\u001b[1;34m()\u001b[0m\n\u001b[1;32m----> 1\u001b[1;33m \u001b[0msquare_me\u001b[0m\u001b[1;33m(\u001b[0m\u001b[1;36m10\u001b[0m\u001b[1;33m)\u001b[0m\u001b[1;33m\u001b[0m\u001b[0m\n\u001b[0m",
        "\u001b[1;31mNameError\u001b[0m: name 'square_me' is not defined"
       ]
      }
     ],
     "prompt_number": 9
    },
    {
     "cell_type": "heading",
     "level": 3,
     "metadata": {},
     "source": [
      "R\u00e9solution des noms dans la fermeture (closure)"
     ]
    },
    {
     "cell_type": "code",
     "collapsed": false,
     "input": [
      "def annonceur_debut_fin_dyn(ma_fn):\n",
      "    \n",
      "    def nouvelle_fn(*args, **kwargs):\n",
      "        print(\"J'ai trouv\u00e9 %s\" % une_variable_quelconque)\n",
      "        print('On va entrer dans \"%s\"' % ma_fn.__name__)\n",
      "        retval = ma_fn(*args, **kwargs)\n",
      "        print('On vient de sortir de \"%s\"' % ma_fn.__name__)\n",
      "        return retval\n",
      "    return nouvelle_fn\n",
      "\n",
      "@annonceur_debut_fin_dyn\n",
      "def imprime_nom(nom):\n",
      "    print('Bonjour %s.' % nom)\n",
      "    print(dir())\n",
      "\n",
      "une_variable_quelconque = 6\n",
      "imprime_nom('Swamp Lord')\n",
      "\n",
      "# WOAH!!! Port\u00e9e (scope) dynamique!\n",
      "# Merci aux late bindings!"
     ],
     "language": "python",
     "metadata": {},
     "outputs": [
      {
       "output_type": "stream",
       "stream": "stdout",
       "text": [
        "J'ai trouv\u00e9 6\n",
        "On va entrer dans \"imprime_nom\"\n",
        "Bonjour Swamp Lord.\n",
        "['nom']\n",
        "On vient de sortir de \"imprime_nom\"\n"
       ]
      }
     ],
     "prompt_number": 20
    },
    {
     "cell_type": "heading",
     "level": 3,
     "metadata": {},
     "source": [
      "Filter et Map sont font de la 'Lazy Evaluation' ?"
     ]
    },
    {
     "cell_type": "code",
     "collapsed": false,
     "input": [
      "def print_ident(to_print):\n",
      "    print(to_print)\n",
      "    return to_print\n",
      "\n",
      "print_filter = deco_parametrable(\"CALLED FILTER!\")(print_ident)\n",
      "print_map = deco_parametrable(\"CALLED MAP!\")(print_ident)\n",
      "\n",
      "\n",
      "list(map(print_map, filter(print_filter, range(1, 10))))"
     ],
     "language": "python",
     "metadata": {},
     "outputs": [
      {
       "output_type": "stream",
       "stream": "stdout",
       "text": [
        "CALLED FILTER!\n",
        "1\n",
        "CALLED MAP!\n",
        "1\n",
        "CALLED FILTER!\n",
        "2\n",
        "CALLED MAP!\n",
        "2\n",
        "CALLED FILTER!\n",
        "3\n",
        "CALLED MAP!\n",
        "3\n",
        "CALLED FILTER!\n",
        "4\n",
        "CALLED MAP!\n",
        "4\n",
        "CALLED FILTER!\n",
        "5\n",
        "CALLED MAP!\n",
        "5\n",
        "CALLED FILTER!\n",
        "6\n",
        "CALLED MAP!\n",
        "6\n",
        "CALLED FILTER!\n",
        "7\n",
        "CALLED MAP!\n",
        "7\n",
        "CALLED FILTER!\n",
        "8\n",
        "CALLED MAP!\n",
        "8\n",
        "CALLED FILTER!\n",
        "9\n",
        "CALLED MAP!\n",
        "9\n"
       ]
      },
      {
       "metadata": {},
       "output_type": "pyout",
       "prompt_number": 39,
       "text": [
        "[1, 2, 3, 4, 5, 6, 7, 8, 9]"
       ]
      }
     ],
     "prompt_number": 39
    }
   ],
   "metadata": {}
  }
 ]
}