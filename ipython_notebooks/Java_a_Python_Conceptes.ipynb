{
 "metadata": {
  "name": "",
  "signature": "sha256:55cf40bdfb0e479422cefd463125d00ae7467a10d4f1434489e582155c633920"
 },
 "nbformat": 3,
 "nbformat_minor": 0,
 "worksheets": [
  {
   "cells": [
    {
     "cell_type": "code",
     "collapsed": false,
     "input": [
      "# Va \u00eatre utile plus tard\n",
      "def printargs(ma_fn):\n",
      "    \n",
      "    def nouvelle_fn(*args, **kwargs):\n",
      "        print('args: %s - kwargs: %s' % (args, kwargs))\n",
      "        return ma_fn(*args, **kwargs)\n",
      "    return nouvelle_fn"
     ],
     "language": "python",
     "metadata": {},
     "outputs": [],
     "prompt_number": 120
    },
    {
     "cell_type": "heading",
     "level": 2,
     "metadata": {},
     "source": [
      "Slices"
     ]
    },
    {
     "cell_type": "code",
     "collapsed": false,
     "input": [
      "li = [0, 2, 4, 6, 8]"
     ],
     "language": "python",
     "metadata": {},
     "outputs": [],
     "prompt_number": 124
    },
    {
     "cell_type": "code",
     "collapsed": false,
     "input": [
      "li[3]"
     ],
     "language": "python",
     "metadata": {},
     "outputs": [],
     "prompt_number": 127
    },
    {
     "cell_type": "code",
     "collapsed": false,
     "input": [
      "li[-3] # -1 est le dernier \u00e9l\u00e9ment"
     ],
     "language": "python",
     "metadata": {},
     "outputs": [],
     "prompt_number": 132
    },
    {
     "cell_type": "code",
     "collapsed": false,
     "input": [
      "li[:3] # [d\u00e9but:fin]"
     ],
     "language": "python",
     "metadata": {},
     "outputs": [],
     "prompt_number": 137
    },
    {
     "cell_type": "code",
     "collapsed": false,
     "input": [
      "li[::2] # [d\u00e9but:fin:pas(step)]"
     ],
     "language": "python",
     "metadata": {},
     "outputs": [],
     "prompt_number": 139
    },
    {
     "cell_type": "code",
     "collapsed": false,
     "input": [
      "li[::-1] # [d\u00e9but:fin:pas(step)]"
     ],
     "language": "python",
     "metadata": {},
     "outputs": [],
     "prompt_number": 140
    },
    {
     "cell_type": "code",
     "collapsed": false,
     "input": [
      "li[3::-1]"
     ],
     "language": "python",
     "metadata": {},
     "outputs": [],
     "prompt_number": 155
    },
    {
     "cell_type": "code",
     "collapsed": false,
     "input": [
      "li[-2::-1]"
     ],
     "language": "python",
     "metadata": {},
     "outputs": [],
     "prompt_number": 159
    },
    {
     "cell_type": "heading",
     "level": 2,
     "metadata": {},
     "source": [
      "Classes"
     ]
    },
    {
     "cell_type": "code",
     "collapsed": false,
     "input": [
      "class Personnage:\n",
      "    \n",
      "    nombre = 3 # Variable statique\n",
      "\n",
      "    def __init__(self, nom='Sans nom'):\n",
      "        self.nom = nom # Variable de classe\n",
      "        self.__age = 3 # 'presque cach\u00e9'\n",
      "\n",
      "    @staticmethod\n",
      "    def vivre():\n",
      "        return 'Il y a de la vie ici'\n",
      "\n",
      "    #def crier(self, mot):\n",
      "    # ou\n",
      "    def crier(self, mot: str) -> str: # mypy\n",
      "        print( ('je suis %s et je cri: %s' % self.nom, mot).upper() )\n",
      "\n",
      "    def __chuchoter(self, mot):\n",
      "        print(mot.lower())\n",
      "        \n",
      "p = Personnage()\n",
      "\n",
      "p.__dict__\n",
      "\n"
     ],
     "language": "python",
     "metadata": {},
     "outputs": [],
     "prompt_number": 20
    },
    {
     "cell_type": "code",
     "collapsed": false,
     "input": [
      "p.nom"
     ],
     "language": "python",
     "metadata": {},
     "outputs": [],
     "prompt_number": 18
    },
    {
     "cell_type": "code",
     "collapsed": false,
     "input": [
      "p.__age"
     ],
     "language": "python",
     "metadata": {},
     "outputs": [],
     "prompt_number": 6
    },
    {
     "cell_type": "code",
     "collapsed": false,
     "input": [
      "p._Personnage__age"
     ],
     "language": "python",
     "metadata": {},
     "outputs": [],
     "prompt_number": 7
    },
    {
     "cell_type": "heading",
     "level": 2,
     "metadata": {},
     "source": [
      "H\u00e9ritage Multiple"
     ]
    },
    {
     "cell_type": "code",
     "collapsed": false,
     "input": [
      "class Base(object): \n",
      "    def __init__(self, c):\n",
      "        print('Base appel\u00e9 par %s' % c)\n",
      "        super().__init__()\n",
      "\n",
      "class ParentA(Base):\n",
      "    def __init__(self, c):\n",
      "        print('ParentA appel\u00e9 par %s' % c)\n",
      "        super().__init__('ParentA')\n",
      "\n",
      "class ParentB(Base):\n",
      "    def __init__(self, c):\n",
      "        print('ParentB appel\u00e9 par %s' % c)\n",
      "        super().__init__('ParentB')\n",
      "\n",
      "class Enfant(ParentA, ParentB):\n",
      "    def __init__(self, c):\n",
      "        print('Enfant appel\u00e9 par %s' % c)\n",
      "        super().__init__('Enfant')\n",
      "\n",
      "Enfant('Construct')\n",
      "print(Enfant.mro()) # Method Resolution Order"
     ],
     "language": "python",
     "metadata": {},
     "outputs": [],
     "prompt_number": 2
    },
    {
     "cell_type": "heading",
     "level": 2,
     "metadata": {},
     "source": [
      "M\u00e9todes int\u00e9ressantes"
     ]
    },
    {
     "cell_type": "code",
     "collapsed": false,
     "input": [
      "class Maison():\n",
      "    def __init__(self, fenetre=3, porte=1):\n",
      "        self.fenetre = fenetre\n",
      "        self.porte = porte\n",
      "        \n",
      "    def __str__(self):\n",
      "        return 'Maison ayant %s porte(s) et %s fen\u00eatre(s)' % (self.porte, self.fenetre)\n",
      "    \n",
      "    def __repr__(self):\n",
      "        return 'Maison(porte=%s, fenetre=%s)' % (self.porte, self.fenetre)\n",
      "    \n",
      "    def __call__(self):\n",
      "        print ('Je suis une maison qui a \u00e9t\u00e9 appel\u00e9e. Je suis un foncteur.')\n",
      "        \n",
      "    def __getattr__(self, attr):\n",
      "        print (\"Quelqu'un est venu chercher %r.\\nCe n'est pas un de mes membres\" % attr)\n",
      "        return attr * 3\n",
      "        \n",
      "\n",
      "m = Maison(porte=2, fenetre=4)\n",
      "\n",
      "print ('En string: %s \\nEn repr\u00e9sentation:  %r' % (m, m) )\n",
      "\n",
      "\n",
      "\n"
     ],
     "language": "python",
     "metadata": {},
     "outputs": [],
     "prompt_number": 1
    },
    {
     "cell_type": "code",
     "collapsed": false,
     "input": [
      "class Dog:\n",
      "    def __init__(self):\n",
      "        self.paws = 4\n",
      "        self._intelligence = \"superior\"\n",
      "        self.__barking_intensity = 5\n",
      "        \n",
      "    def __call__(self):\n",
      "        print(\"WOOF\" * self.__barking_intensity)\n",
      "        \n",
      "    def __getattr__(self, attr):\n",
      "        print(\"Fetching %s\" % attr)\n",
      "        return lambda x: x**2\n",
      "        \n",
      "doge = Dog()\n",
      "doge()\n",
      "doge.__getattr__('paws')(3)"
     ],
     "language": "python",
     "metadata": {},
     "outputs": [],
     "prompt_number": 15
    },
    {
     "cell_type": "heading",
     "level": 1,
     "metadata": {},
     "source": [
      "D\u00e9corateurs"
     ]
    },
    {
     "cell_type": "heading",
     "level": 2,
     "metadata": {},
     "source": [
      "Macro"
     ]
    },
    {
     "cell_type": "code",
     "collapsed": false,
     "input": [
      "def annonceur_debut_fin(ma_fn):\n",
      "    \n",
      "    def nouvelle_fn(*args, **kwargs):\n",
      "        print('On va entrer dans \"%s\"' % ma_fn.__name__)\n",
      "        retval = ma_fn(*args, **kwargs)\n",
      "        print('On vient de sortir de \"%s\"' % ma_fn.__name__)\n",
      "        return retval\n",
      "    return nouvelle_fn\n",
      "\n",
      "@annonceur_debut_fin\n",
      "def imprime_nom(nom):\n",
      "    print('Bonjour %s.' % nom)\n",
      "    \n",
      "\n",
      "imprime_nom('Swamp Lord')\n",
      "\n",
      "\n"
     ],
     "language": "python",
     "metadata": {},
     "outputs": [],
     "prompt_number": 16
    },
    {
     "cell_type": "heading",
     "level": 2,
     "metadata": {},
     "source": [
      "Injection dans la global avec d\u00e9corateur"
     ]
    },
    {
     "cell_type": "code",
     "collapsed": false,
     "input": [
      "# REALLY FICTIVE CODE\n",
      "\n",
      "from codecs import encode\n",
      "\n",
      "\n",
      "def fetch_user_from_session_id(session_id):\n",
      "    return encode(session_id, 'rot13')\n",
      "\n",
      "def provide_user(mon_endpoint):\n",
      "    \n",
      "    def nouvelle_fn(*args, **kwargs):\n",
      "        session_id = kwargs['req_headers']['session_id']\n",
      "        mon_endpoint.__globals__['user'] = fetch_user_from_session_id(session_id)\n",
      "        ans =  mon_endpoint(*args, **kwargs)\n",
      "        print(mon_endpoint.__closure__)\n",
      "        return ans\n",
      "    return nouvelle_fn\n",
      "\n",
      "\n",
      "@provide_user\n",
      "def page_secrete(req_headers=None):\n",
      "    \n",
      "    return 'Bienvenue %s. Tu utilises %s' % (user, req_headers['user_agent'])\n",
      "\n",
      "# Une request arrive \u00e0 notre handler fictif...\n",
      "\n",
      "page_secrete(req_headers={'session_id': 'Fuerx',\n",
      "                          'user_agent': 'Shrek Explorer 20'})\n",
      "\n"
     ],
     "language": "python",
     "metadata": {},
     "outputs": [],
     "prompt_number": 31
    },
    {
     "cell_type": "heading",
     "level": 2,
     "metadata": {},
     "source": [
      "Passer des arguments \u00e0 un D\u00e9corateur"
     ]
    },
    {
     "cell_type": "code",
     "collapsed": false,
     "input": [
      "def deco_parametrable(mot_a_afficher_avant):\n",
      "    \n",
      "    def le_vrai_decorateur(ma_fn):\n",
      "    \n",
      "        def nouvelle_fn(*args, **kwargs):\n",
      "            print(mot_a_afficher_avant)\n",
      "            return ma_fn(*args, **kwargs)\n",
      "        \n",
      "        return nouvelle_fn\n",
      "    \n",
      "    return le_vrai_decorateur\n",
      "\n",
      "print_decore = deco_parametrable('Hey you!')(print)\n",
      "\n",
      "print_decore('THIS IS MY SWAMP')"
     ],
     "language": "python",
     "metadata": {},
     "outputs": [],
     "prompt_number": 22
    },
    {
     "cell_type": "code",
     "collapsed": false,
     "input": [
      "@deco_parametrable(\"N'oublie pas de cacher ta casquette en pr\u00e9sence de Phillipe\")\n",
      "def square_me(x):\n",
      "    return x ** 2\n",
      "\n",
      "square_me(4)"
     ],
     "language": "python",
     "metadata": {},
     "outputs": [],
     "prompt_number": 23
    },
    {
     "cell_type": "heading",
     "level": 4,
     "metadata": {},
     "source": [
      "V\u00e9rifier les arguments pass\u00e9s \u00e0 une fonction avec d\u00e9corateurs"
     ]
    },
    {
     "cell_type": "code",
     "collapsed": false,
     "input": [
      "def deco_filtreur(fn_filtre):\n",
      "    \n",
      "    def le_vrai_decorateur(ma_fn):\n",
      "    \n",
      "        def nouvelle_fn(*args, **kwargs):\n",
      "            if not fn_filtre(args[0]):\n",
      "                raise Exception('Wow wow wow! Filtre non respect\u00e9')\n",
      "            return ma_fn(*args, **kwargs)\n",
      "        \n",
      "        return nouvelle_fn\n",
      "    \n",
      "    return le_vrai_decorateur\n",
      "\n",
      "@deco_filtreur(lambda x: x < 10)\n",
      "def square_me(x):\n",
      "    return x ** 2\n",
      "\n",
      "square_me(5)"
     ],
     "language": "python",
     "metadata": {},
     "outputs": [],
     "prompt_number": 25
    },
    {
     "cell_type": "code",
     "collapsed": false,
     "input": [
      "square_me(10)"
     ],
     "language": "python",
     "metadata": {},
     "outputs": [],
     "prompt_number": 26
    },
    {
     "cell_type": "heading",
     "level": 3,
     "metadata": {},
     "source": [
      "R\u00e9solution des noms dans la fermeture (closure)"
     ]
    },
    {
     "cell_type": "code",
     "collapsed": false,
     "input": [
      "def annonceur_debut_fin_dyn(ma_fn):\n",
      "    \n",
      "    def nouvelle_fn(*args, **kwargs):\n",
      "        print(\"J'ai trouv\u00e9 %s\" % une_variable_quelconque)\n",
      "        print('On va entrer dans \"%s\"' % ma_fn.__name__)\n",
      "        retval = ma_fn(*args, **kwargs)\n",
      "        print('On vient de sortir de \"%s\"' % ma_fn.__name__)\n",
      "        return retval\n",
      "    return nouvelle_fn\n",
      "\n",
      "@annonceur_debut_fin_dyn\n",
      "def imprime_nom(nom):\n",
      "    print('Bonjour %s.' % nom)\n",
      "    print(dir())\n",
      "\n",
      "une_variable_quelconque = 6\n",
      "imprime_nom('Swamp Lord')\n",
      "\n",
      "# WOAH!!! Port\u00e9e (scope) dynamique!\n",
      "# Merci aux late bindings!"
     ],
     "language": "python",
     "metadata": {},
     "outputs": [],
     "prompt_number": 95
    },
    {
     "cell_type": "heading",
     "level": 3,
     "metadata": {},
     "source": [
      "Filter et Map sont font de la 'Lazy Evaluation' ?"
     ]
    },
    {
     "cell_type": "code",
     "collapsed": false,
     "input": [
      "def print_ident(to_print):\n",
      "    print(to_print)\n",
      "    return to_print\n",
      "\n",
      "print_filter = deco_parametrable(\"CALLED FILTER!\")(print_ident)\n",
      "print_map = deco_parametrable(\"CALLED MAP!\")(print_ident)\n",
      "\n",
      "\n",
      "list(map(print_map, filter(print_filter, range(1, 10))))"
     ],
     "language": "python",
     "metadata": {},
     "outputs": [],
     "prompt_number": 40
    },
    {
     "cell_type": "heading",
     "level": 2,
     "metadata": {},
     "source": [
      "Map"
     ]
    },
    {
     "cell_type": "code",
     "collapsed": false,
     "input": [
      "m = map(lambda x: x**2, [0, 1, 2])\n",
      "print(next(m))\n",
      "print(next(m))\n",
      "print(next(m))\n",
      "print(next(m))"
     ],
     "language": "python",
     "metadata": {},
     "outputs": [],
     "prompt_number": 62
    },
    {
     "cell_type": "code",
     "collapsed": false,
     "input": [
      "m = map(lambda x, y: x+y, [1, 2, 3], [4, 5, 6, 7])\n",
      "\n",
      "print(list(m))"
     ],
     "language": "python",
     "metadata": {},
     "outputs": [],
     "prompt_number": 64
    },
    {
     "cell_type": "code",
     "collapsed": false,
     "input": [
      "z = zip([1, 2, 3], [4, 5, 6, 7])\n",
      "\n",
      "print(list(z))"
     ],
     "language": "python",
     "metadata": {},
     "outputs": [],
     "prompt_number": 63
    },
    {
     "cell_type": "heading",
     "level": 2,
     "metadata": {},
     "source": [
      "Reduce (foldl)"
     ]
    },
    {
     "cell_type": "code",
     "collapsed": false,
     "input": [
      "import operator\n",
      "\n",
      "operator.add(1,2)"
     ],
     "language": "python",
     "metadata": {},
     "outputs": [],
     "prompt_number": 70
    },
    {
     "cell_type": "code",
     "collapsed": false,
     "input": [
      "add = printargs(operator.add)\n",
      "div = printargs(operator.truediv)"
     ],
     "language": "python",
     "metadata": {},
     "outputs": [],
     "prompt_number": 117
    },
    {
     "cell_type": "code",
     "collapsed": false,
     "input": [
      "import functools\n",
      "\n",
      "functools.reduce(add, [2, 3, 4, 5]) # sans valeur racine"
     ],
     "language": "python",
     "metadata": {},
     "outputs": [],
     "prompt_number": 116
    },
    {
     "cell_type": "code",
     "collapsed": false,
     "input": [
      "functools.reduce(operator.add, [2, 3, 4, 5], 10) # avec valeur racine (seeded)"
     ],
     "language": "python",
     "metadata": {},
     "outputs": [],
     "prompt_number": 102
    },
    {
     "cell_type": "code",
     "collapsed": false,
     "input": [
      "functools.reduce(div, [2, 3, 4, 5])"
     ],
     "language": "python",
     "metadata": {},
     "outputs": [],
     "prompt_number": 118
    },
    {
     "cell_type": "heading",
     "level": 5,
     "metadata": {},
     "source": [
      "foldr\n"
     ]
    },
    {
     "cell_type": "code",
     "collapsed": false,
     "input": [
      "functools.reduce(div, reversed([2, 3, 4, 5]))"
     ],
     "language": "python",
     "metadata": {},
     "outputs": [],
     "prompt_number": 119
    }
   ],
   "metadata": {}
  }
 ]
}